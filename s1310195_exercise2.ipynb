{
  "nbformat": 4,
  "nbformat_minor": 0,
  "metadata": {
    "colab": {
      "provenance": [],
      "authorship_tag": "ABX9TyON+iXpHzo023ObSJ78XXf4",
      "include_colab_link": true
    },
    "kernelspec": {
      "name": "python3",
      "display_name": "Python 3"
    },
    "language_info": {
      "name": "python"
    }
  },
  "cells": [
    {
      "cell_type": "markdown",
      "metadata": {
        "id": "view-in-github",
        "colab_type": "text"
      },
      "source": [
        "<a href=\"https://colab.research.google.com/github/Arinosu-MY/geoanalytics/blob/main/s1310195_exercise2.ipynb\" target=\"_parent\"><img src=\"https://colab.research.google.com/assets/colab-badge.svg\" alt=\"Open In Colab\"/></a>"
      ]
    },
    {
      "cell_type": "markdown",
      "source": [
        "# Task 1: Tower of Hanoi"
      ],
      "metadata": {
        "id": "cQaX2g5BSX6j"
      }
    },
    {
      "cell_type": "code",
      "source": [
        "!cat Hanoi.py"
      ],
      "metadata": {
        "id": "t-J5UrnISkqH",
        "colab": {
          "base_uri": "https://localhost:8080/"
        },
        "outputId": "077a07b9-3b1b-4715-9790-980584b0f26e"
      },
      "execution_count": null,
      "outputs": [
        {
          "output_type": "stream",
          "name": "stdout",
          "text": [
            "from tHanoiAbstract import tHanoiAbstract\n",
            "\n",
            "class hanoi(tHanoiAbstract):\n",
            "    \"\"\"\n",
            "    :Description: The hanoi function show how to move 3 disks from one rod to another.\n",
            "    :parameters: disks(int) - number of the disks\n",
            "                 sourse(str) - sourse of the disks\n",
            "                 target(str) - move destination of the disks\n",
            "                 auxiliary(str) - temporary storage location for the disk\n",
            "\n",
            "\n",
            "    **Terminal command**\n",
            "\n",
            "    .. code-block:: console\n",
            "\n",
            "      Format:\n",
            "\n",
            "      (.venv) $ python3 Hanoi.py\n",
            "\n",
            "      Example Usage:\n",
            "\n",
            "      (.venv) $ python3 Hanoi.py\n",
            "\n",
            "\n",
            "        \"\"\"\n",
            "    def move_disk(self, source, target):\n",
            "        print(f\"Move disk from {source} to {target}\")\n",
            "        \n",
            "    def solve(self, disks, source, auxiliary, target):\n",
            "        if disks == 1:\n",
            "            self.move_disk(source, target)\n",
            "        else:\n",
            "            self.solve(disks - 1, source, target, auxiliary)\n",
            "            self.move_disk(source, target)\n",
            "            self.solve(disks - 1, auxiliary, source, target)\n",
            "\n",
            "if __name__ == \"__main__\":\n",
            "    h = hanoi()\n",
            "    h.solve(3, \"A\", \"B\", \"C\")"
          ]
        }
      ]
    },
    {
      "cell_type": "code",
      "source": [
        "!python3 Hanoi.py"
      ],
      "metadata": {
        "colab": {
          "base_uri": "https://localhost:8080/"
        },
        "id": "5AqZZ-nP39fW",
        "outputId": "66724b57-d279-4de1-b470-27fdda489e7b"
      },
      "execution_count": null,
      "outputs": [
        {
          "output_type": "stream",
          "name": "stdout",
          "text": [
            "Move disk from A to C\n",
            "Move disk from A to B\n",
            "Move disk from C to B\n",
            "Move disk from A to C\n",
            "Move disk from B to A\n",
            "Move disk from B to C\n",
            "Move disk from A to C\n"
          ]
        }
      ]
    },
    {
      "cell_type": "markdown",
      "source": [
        "# Task 2: Pigeon hole sorting"
      ],
      "metadata": {
        "id": "tQpIe9Dw3PWS"
      }
    },
    {
      "cell_type": "code",
      "source": [
        "!cat pigeonHoleSort.py"
      ],
      "metadata": {
        "colab": {
          "base_uri": "https://localhost:8080/"
        },
        "id": "CN0G1ZXv3WwE",
        "outputId": "39dd5230-4697-439c-e1a0-f551b2d159ac"
      },
      "execution_count": null,
      "outputs": [
        {
          "output_type": "stream",
          "name": "stdout",
          "text": [
            "import sys\n",
            "import random\n",
            "from pigeonHoleSortAbstract import pigeonHoleSortAbstract\n",
            "\n",
            "class pigeonHoleSort(pigeonHoleSortAbstract):\n",
            "    \"\"\"\n",
            "    :Description: \n",
            "        The pigeonHoleSort function implements the **Pigeonhole Sorting Algorithm** to sort a list of random numbers. \n",
            "\n",
            "    :Parameters:\n",
            "        - arr (list): A list containing random integers.\n",
            "    \n",
            "    :Attributes:\n",
            "        - size (int): The range of numbers between the minimum and maximum values.\n",
            "        - max_val (int): The largest value in the input list.\n",
            "        - min_val (int): The smallest value in the input list.\n",
            "        - holes (list): A list of pigeonholes (buckets) used for sorting.\n",
            "\n",
            "    **Terminal command**\n",
            "\n",
            "    .. code-block:: console\n",
            "\n",
            "      Format:\n",
            "\n",
            "      (.venv) $ python3 pigeonHoleSort.py <number of the ramdom numbers>\n",
            "\n",
            "      Example Usage:\n",
            "\n",
            "      (.venv) $ python3 pigeonHoleSort.py  100\n",
            "    \"\"\"\n",
            "    \n",
            "    def sort(self, arr):\n",
            "        min_val = min(arr)\n",
            "        max_val = max(arr)\n",
            "        size = max_val - min_val + 1\n",
            "        holes = [[] for _ in range(size)]\n",
            "\n",
            "        for x in arr:\n",
            "            holes[x - min_val].append(x)\n",
            "\n",
            "        i = 0\n",
            "        for hole in holes:\n",
            "            for x in hole:\n",
            "                arr[i] = x\n",
            "                i += 1\n",
            "        return arr\n",
            "\n",
            "if __name__ == \"__main__\":\n",
            "    if len(sys.argv) != 2:\n",
            "        print(\"Error: The user does not specify the correct number of input parameters. Syntax is: python3 pigeonHoleSort.py randomN\")\n",
            "        sys.exit(1)\n",
            "\n",
            "    try:\n",
            "        n = int(sys.argv[1])\n",
            "        arr = [random.randint(0, 100) for _ in range(n)]\n",
            "        print(f\"Original array: {arr}\")\n",
            "\n",
            "        sorter = pigeonHoleSort()\n",
            "        sorted_arr = sorter.sort(arr)\n",
            "        print(f\"Sorted array: {sorted_arr}\")\n",
            "\n",
            "    except ValueError:\n",
            "        print(\"Error: The user does not specify the correct number of input parameters. Syntax is: python3 pigeonHoleSort.py randomN\")\n"
          ]
        }
      ]
    },
    {
      "cell_type": "code",
      "source": [
        "!python3 pigeonHoleSort.py 100"
      ],
      "metadata": {
        "colab": {
          "base_uri": "https://localhost:8080/"
        },
        "id": "KZFn46KP3zJR",
        "outputId": "91776775-de2f-404b-b3ae-4edc3e2ae0d8"
      },
      "execution_count": null,
      "outputs": [
        {
          "output_type": "stream",
          "name": "stdout",
          "text": [
            "Original array: [9, 74, 0, 45, 58, 18, 92, 32, 31, 38, 25, 48, 98, 54, 13, 82, 94, 54, 84, 83, 46, 10, 57, 63, 11, 14, 57, 92, 76, 35, 56, 95, 62, 8, 14, 70, 82, 15, 84, 60, 57, 25, 48, 50, 85, 40, 77, 10, 4, 19, 61, 7, 49, 76, 56, 34, 35, 47, 83, 48, 23, 48, 84, 69, 22, 58, 86, 75, 94, 5, 95, 98, 35, 15, 65, 87, 75, 18, 86, 61, 30, 36, 26, 19, 66, 54, 28, 53, 80, 24, 80, 14, 89, 78, 57, 58, 41, 26, 90, 3]\n",
            "Sorted array: [0, 3, 4, 5, 7, 8, 9, 10, 10, 11, 13, 14, 14, 14, 15, 15, 18, 18, 19, 19, 22, 23, 24, 25, 25, 26, 26, 28, 30, 31, 32, 34, 35, 35, 35, 36, 38, 40, 41, 45, 46, 47, 48, 48, 48, 48, 49, 50, 53, 54, 54, 54, 56, 56, 57, 57, 57, 57, 58, 58, 58, 60, 61, 61, 62, 63, 65, 66, 69, 70, 74, 75, 75, 76, 76, 77, 78, 80, 80, 82, 82, 83, 83, 84, 84, 84, 85, 86, 86, 87, 89, 90, 92, 92, 94, 94, 95, 95, 98, 98]\n"
          ]
        }
      ]
    },
    {
      "cell_type": "markdown",
      "source": [
        "# Task 3: Lambda function"
      ],
      "metadata": {
        "id": "0MbhNY7x4x2Y"
      }
    },
    {
      "cell_type": "code",
      "source": [
        "!cat lambdaPlusOne.py"
      ],
      "metadata": {
        "colab": {
          "base_uri": "https://localhost:8080/"
        },
        "id": "zP8PmZaW43Yu",
        "outputId": "bc82de8e-a00b-4fdc-d2ab-b5f661ec33e8"
      },
      "execution_count": null,
      "outputs": [
        {
          "output_type": "stream",
          "name": "stdout",
          "text": [
            "import sys\n",
            "\n",
            "if __name__ == \"__main__\":\n",
            "    plusOne = lambda x: x + 1\n",
            "    if len(sys.argv) != 2:\n",
            "        print(\"Error: The user does not specify the correct number of inputparameters. Syntax is: python3 lambdaPlusOne.py value\")\n",
            "        sys.exit(1)\n",
            "\n",
            "    try:\n",
            "        x = int(sys.argv[1])\n",
            "        print(f\"output: {plusOne(x)}\")\n",
            "\n",
            "    except ValueError:\n",
            "        print(\"Error: The user does not specify the correct number of input parameters. Syntax is: python3 lambdaPlusOne.py value\")"
          ]
        }
      ]
    },
    {
      "cell_type": "code",
      "source": [
        "!python3 lambdaPlusOne.py 3"
      ],
      "metadata": {
        "colab": {
          "base_uri": "https://localhost:8080/"
        },
        "id": "jGpwNHka488m",
        "outputId": "e3dca558-12cc-4458-e81c-565fa4973a24"
      },
      "execution_count": null,
      "outputs": [
        {
          "output_type": "stream",
          "name": "stdout",
          "text": [
            "output: 4\n"
          ]
        }
      ]
    }
  ]
}