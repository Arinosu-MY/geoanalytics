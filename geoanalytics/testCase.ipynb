{
 "cells": [
  {
   "cell_type": "code",
   "execution_count": 1,
   "id": "56c847f8",
   "metadata": {},
   "outputs": [
    {
     "name": "stdout",
     "output_type": "stream",
     "text": [
      "--2024-09-21 12:29:58--  https://www.dropbox.com/scl/fi/jqcoempaqc4v3olxpgz94/sst.mon.anom.1982-2022.nc?rlkey=ob164gtkpjwdwjll1ch5kwp3d&e=1&dl=1\n",
      "Resolving www.dropbox.com (www.dropbox.com)... 162.125.80.18\n",
      "Connecting to www.dropbox.com (www.dropbox.com)|162.125.80.18|:443... connected.\n",
      "HTTP request sent, awaiting response... 302 Found\n",
      "Location: https://uc7f0cfffce612e50e6384199386.dl.dropboxusercontent.com/cd/0/inline/Ca91rCse4vKevSJBUA04bpbhTVO8iJItVrQ36TtOYy6sEJZDzo39w1wjUZgX7e-zQSNtDjlNWv8K4TUWB-LGMAzYYPIb22G_P8_drpI47svHNbcy4APwHSXg8XvCXJUhWRC-SL1tF6qz1IYJN8Fs7ef4/file?dl=1# [following]\n",
      "--2024-09-21 12:29:59--  https://uc7f0cfffce612e50e6384199386.dl.dropboxusercontent.com/cd/0/inline/Ca91rCse4vKevSJBUA04bpbhTVO8iJItVrQ36TtOYy6sEJZDzo39w1wjUZgX7e-zQSNtDjlNWv8K4TUWB-LGMAzYYPIb22G_P8_drpI47svHNbcy4APwHSXg8XvCXJUhWRC-SL1tF6qz1IYJN8Fs7ef4/file?dl=1\n",
      "Resolving uc7f0cfffce612e50e6384199386.dl.dropboxusercontent.com (uc7f0cfffce612e50e6384199386.dl.dropboxusercontent.com)... 162.125.80.15\n",
      "Connecting to uc7f0cfffce612e50e6384199386.dl.dropboxusercontent.com (uc7f0cfffce612e50e6384199386.dl.dropboxusercontent.com)|162.125.80.15|:443... connected.\n",
      "HTTP request sent, awaiting response... 302 Found\n",
      "Location: /cd/0/inline2/Ca8ztnxkWn0UzSpWHtUijoYR97AJ32c0eJ4lWBiSPEMiQbhhz6uZLudiJ6VIC83jpIPS8ZUN8L3OO0mcuO5AHbW5ZbS4I1EZbgAZNyHLq0Y0AmpWBV_3KkQV8DA1MhNz_E-U-MnSUbthMirHJKJtoeYpICsrHVvOCtHS6beRfYVjsz_yBSgft5zQitHS4DevtDa1M8PxTGWTyfoaQjmW8_1ckxQYgfNX0MdtLshVoB-8Vm3xfKOIYbkr_uqPtgch4CzfosJIdY8eW4xrCH9GY45Z0aX7gAjCgthh0xyRkNCODwzD7z9GM74QdpTqG_Ltw9nFEDtUf8Bv3dR2u87sqOzjqYGgntUW9t-OvAwv7fM30dQSFjvtn5M19BZGLaO5smI/file?dl=1 [following]\n",
      "--2024-09-21 12:30:00--  https://uc7f0cfffce612e50e6384199386.dl.dropboxusercontent.com/cd/0/inline2/Ca8ztnxkWn0UzSpWHtUijoYR97AJ32c0eJ4lWBiSPEMiQbhhz6uZLudiJ6VIC83jpIPS8ZUN8L3OO0mcuO5AHbW5ZbS4I1EZbgAZNyHLq0Y0AmpWBV_3KkQV8DA1MhNz_E-U-MnSUbthMirHJKJtoeYpICsrHVvOCtHS6beRfYVjsz_yBSgft5zQitHS4DevtDa1M8PxTGWTyfoaQjmW8_1ckxQYgfNX0MdtLshVoB-8Vm3xfKOIYbkr_uqPtgch4CzfosJIdY8eW4xrCH9GY45Z0aX7gAjCgthh0xyRkNCODwzD7z9GM74QdpTqG_Ltw9nFEDtUf8Bv3dR2u87sqOzjqYGgntUW9t-OvAwv7fM30dQSFjvtn5M19BZGLaO5smI/file?dl=1\n",
      "Reusing existing connection to uc7f0cfffce612e50e6384199386.dl.dropboxusercontent.com:443.\n",
      "HTTP request sent, awaiting response... 200 OK\n",
      "Length: 127534092 (122M) [application/binary]\n",
      "Saving to: ‘sst.mon.anom.1982-2022.nc?rlkey=ob164gtkpjwdwjll1ch5kwp3d&e=1&dl=1’\n",
      "\n",
      "sst.mon.anom.1982-2 100%[===================>] 121.63M  14.0MB/s    in 8.4s    \n",
      "\n",
      "2024-09-21 12:30:09 (14.5 MB/s) - ‘sst.mon.anom.1982-2022.nc?rlkey=ob164gtkpjwdwjll1ch5kwp3d&e=1&dl=1’ saved [127534092/127534092]\n",
      "\n"
     ]
    }
   ],
   "source": [
    "# !wget \"https://www.dropbox.com/scl/fi/jqcoempaqc4v3olxpgz94/sst.mon.anom.1982-2022.nc?rlkey=ob164gtkpjwdwjll1ch5kwp3d&e=1&dl=1\""
   ]
  },
  {
   "cell_type": "code",
   "execution_count": 1,
   "id": "f47fa703",
   "metadata": {
    "tags": []
   },
   "outputs": [
    {
     "name": "stdout",
     "output_type": "stream",
     "text": [
      "('PostgreSQL 13.16 (Ubuntu 13.16-1.pgdg22.04+1) on x86_64-pc-linux-gnu, compiled by gcc (Ubuntu 11.4.0-1ubuntu1~22.04) 11.4.0, 64-bit',)\n",
      "You are now connected\n"
     ]
    }
   ],
   "source": [
    "from repository import GeoDatabaseManager\n",
    "\n",
    "file = '/Users/tarunsreepada/Github/geoanalytics/test/sst.mon.anom.1982-2022.nc'\n",
    "obj = GeoDatabaseManager()\n",
    "obj.connect('tarun', '163.143.165.143', 'tarun', 'tarun')"
   ]
  },
  {
   "cell_type": "code",
   "execution_count": 2,
   "id": "f27e102d",
   "metadata": {},
   "outputs": [],
   "source": [
    "# obj.delete_repository('test')\n",
    "# obj.create_repository('test', 3)\n",
    "\n",
    "# obj.insert_raster('test', file, 3, 2)"
   ]
  },
  {
   "cell_type": "code",
   "execution_count": 3,
   "id": "139f3edf",
   "metadata": {},
   "outputs": [
    {
     "name": "stdout",
     "output_type": "stream",
     "text": [
      "           x     y       b1       b2       b3\n",
      "0        0.5  89.5      0.0      0.0      0.0\n",
      "1        1.5  89.5      0.0      0.0      0.0\n",
      "2        2.5  89.5      0.0      0.0      0.0\n",
      "3        3.5  89.5      0.0      0.0      0.0\n",
      "4        4.5  89.5      0.0      0.0      0.0\n",
      "...      ...   ...      ...      ...      ...\n",
      "26995  295.5   0.5  65534.0  65534.0  65534.0\n",
      "26996  296.5   0.5  65534.0  65534.0  65534.0\n",
      "26997  297.5   0.5  65534.0  65534.0  65534.0\n",
      "26998  298.5   0.5  65534.0  65534.0  65534.0\n",
      "26999  299.5   0.5  65534.0  65534.0  65534.0\n",
      "\n",
      "[27000 rows x 5 columns]\n"
     ]
    },
    {
     "name": "stderr",
     "output_type": "stream",
     "text": [
      "/Users/tarunsreepada/Github/geoAnalytics/geoAnalytics/repository.py:303: UserWarning: pandas only supports SQLAlchemy connectable (engine/connection) or database string URI or sqlite3 DBAPI2 connection. Other DBAPI2 objects are not tested. Please consider using SQLAlchemy.\n",
      "  df = pd.read_sql(sql, self.conn)\n"
     ]
    }
   ],
   "source": [
    "df = obj.get_dataframe_for_envelope('test', 300, 200, 0, 0)\n",
    "print(df)"
   ]
  },
  {
   "cell_type": "code",
   "execution_count": 4,
   "id": "d51ff67e",
   "metadata": {},
   "outputs": [
    {
     "name": "stderr",
     "output_type": "stream",
     "text": [
      "/Users/tarunsreepada/Github/geoAnalytics/geoAnalytics/repository.py:333: FutureWarning: Series.__getitem__ treating keys as positions is deprecated. In a future version, integer keys will always be treated as labels (consistent with DataFrame behavior). To access a value by position, use `ser.iloc[pos]`\n",
      "  return [self.scores[j - 2].calculate_score(row[j]) for j in range(2, len(row))]\n"
     ]
    },
    {
     "data": {
      "text/html": [
       "<div>\n",
       "<style scoped>\n",
       "    .dataframe tbody tr th:only-of-type {\n",
       "        vertical-align: middle;\n",
       "    }\n",
       "\n",
       "    .dataframe tbody tr th {\n",
       "        vertical-align: top;\n",
       "    }\n",
       "\n",
       "    .dataframe thead th {\n",
       "        text-align: right;\n",
       "    }\n",
       "</style>\n",
       "<table border=\"1\" class=\"dataframe\">\n",
       "  <thead>\n",
       "    <tr style=\"text-align: right;\">\n",
       "      <th></th>\n",
       "      <th>x</th>\n",
       "      <th>y</th>\n",
       "      <th>b1</th>\n",
       "      <th>b2</th>\n",
       "      <th>b3</th>\n",
       "      <th>score_0</th>\n",
       "      <th>score_1</th>\n",
       "      <th>score_2</th>\n",
       "    </tr>\n",
       "  </thead>\n",
       "  <tbody>\n",
       "    <tr>\n",
       "      <th>0</th>\n",
       "      <td>0.5</td>\n",
       "      <td>89.5</td>\n",
       "      <td>0.0</td>\n",
       "      <td>0.0</td>\n",
       "      <td>0.0</td>\n",
       "      <td>0.068966</td>\n",
       "      <td>0.313433</td>\n",
       "      <td>0.193252</td>\n",
       "    </tr>\n",
       "    <tr>\n",
       "      <th>1</th>\n",
       "      <td>1.5</td>\n",
       "      <td>89.5</td>\n",
       "      <td>0.0</td>\n",
       "      <td>0.0</td>\n",
       "      <td>0.0</td>\n",
       "      <td>0.068966</td>\n",
       "      <td>0.313433</td>\n",
       "      <td>0.193252</td>\n",
       "    </tr>\n",
       "    <tr>\n",
       "      <th>2</th>\n",
       "      <td>2.5</td>\n",
       "      <td>89.5</td>\n",
       "      <td>0.0</td>\n",
       "      <td>0.0</td>\n",
       "      <td>0.0</td>\n",
       "      <td>0.068966</td>\n",
       "      <td>0.313433</td>\n",
       "      <td>0.193252</td>\n",
       "    </tr>\n",
       "    <tr>\n",
       "      <th>3</th>\n",
       "      <td>3.5</td>\n",
       "      <td>89.5</td>\n",
       "      <td>0.0</td>\n",
       "      <td>0.0</td>\n",
       "      <td>0.0</td>\n",
       "      <td>0.068966</td>\n",
       "      <td>0.313433</td>\n",
       "      <td>0.193252</td>\n",
       "    </tr>\n",
       "    <tr>\n",
       "      <th>4</th>\n",
       "      <td>4.5</td>\n",
       "      <td>89.5</td>\n",
       "      <td>0.0</td>\n",
       "      <td>0.0</td>\n",
       "      <td>0.0</td>\n",
       "      <td>0.068966</td>\n",
       "      <td>0.313433</td>\n",
       "      <td>0.193252</td>\n",
       "    </tr>\n",
       "    <tr>\n",
       "      <th>...</th>\n",
       "      <td>...</td>\n",
       "      <td>...</td>\n",
       "      <td>...</td>\n",
       "      <td>...</td>\n",
       "      <td>...</td>\n",
       "      <td>...</td>\n",
       "      <td>...</td>\n",
       "      <td>...</td>\n",
       "    </tr>\n",
       "    <tr>\n",
       "      <th>26995</th>\n",
       "      <td>295.5</td>\n",
       "      <td>0.5</td>\n",
       "      <td>65534.0</td>\n",
       "      <td>65534.0</td>\n",
       "      <td>65534.0</td>\n",
       "      <td>1.000000</td>\n",
       "      <td>1.000000</td>\n",
       "      <td>1.000000</td>\n",
       "    </tr>\n",
       "    <tr>\n",
       "      <th>26996</th>\n",
       "      <td>296.5</td>\n",
       "      <td>0.5</td>\n",
       "      <td>65534.0</td>\n",
       "      <td>65534.0</td>\n",
       "      <td>65534.0</td>\n",
       "      <td>1.000000</td>\n",
       "      <td>1.000000</td>\n",
       "      <td>1.000000</td>\n",
       "    </tr>\n",
       "    <tr>\n",
       "      <th>26997</th>\n",
       "      <td>297.5</td>\n",
       "      <td>0.5</td>\n",
       "      <td>65534.0</td>\n",
       "      <td>65534.0</td>\n",
       "      <td>65534.0</td>\n",
       "      <td>1.000000</td>\n",
       "      <td>1.000000</td>\n",
       "      <td>1.000000</td>\n",
       "    </tr>\n",
       "    <tr>\n",
       "      <th>26998</th>\n",
       "      <td>298.5</td>\n",
       "      <td>0.5</td>\n",
       "      <td>65534.0</td>\n",
       "      <td>65534.0</td>\n",
       "      <td>65534.0</td>\n",
       "      <td>1.000000</td>\n",
       "      <td>1.000000</td>\n",
       "      <td>1.000000</td>\n",
       "    </tr>\n",
       "    <tr>\n",
       "      <th>26999</th>\n",
       "      <td>299.5</td>\n",
       "      <td>0.5</td>\n",
       "      <td>65534.0</td>\n",
       "      <td>65534.0</td>\n",
       "      <td>65534.0</td>\n",
       "      <td>1.000000</td>\n",
       "      <td>1.000000</td>\n",
       "      <td>1.000000</td>\n",
       "    </tr>\n",
       "  </tbody>\n",
       "</table>\n",
       "<p>27000 rows × 8 columns</p>\n",
       "</div>"
      ],
      "text/plain": [
       "           x     y       b1       b2       b3   score_0   score_1   score_2\n",
       "0        0.5  89.5      0.0      0.0      0.0  0.068966  0.313433  0.193252\n",
       "1        1.5  89.5      0.0      0.0      0.0  0.068966  0.313433  0.193252\n",
       "2        2.5  89.5      0.0      0.0      0.0  0.068966  0.313433  0.193252\n",
       "3        3.5  89.5      0.0      0.0      0.0  0.068966  0.313433  0.193252\n",
       "4        4.5  89.5      0.0      0.0      0.0  0.068966  0.313433  0.193252\n",
       "...      ...   ...      ...      ...      ...       ...       ...       ...\n",
       "26995  295.5   0.5  65534.0  65534.0  65534.0  1.000000  1.000000  1.000000\n",
       "26996  296.5   0.5  65534.0  65534.0  65534.0  1.000000  1.000000  1.000000\n",
       "26997  297.5   0.5  65534.0  65534.0  65534.0  1.000000  1.000000  1.000000\n",
       "26998  298.5   0.5  65534.0  65534.0  65534.0  1.000000  1.000000  1.000000\n",
       "26999  299.5   0.5  65534.0  65534.0  65534.0  1.000000  1.000000  1.000000\n",
       "\n",
       "[27000 rows x 8 columns]"
      ]
     },
     "execution_count": 4,
     "metadata": {},
     "output_type": "execute_result"
    }
   ],
   "source": [
    "obj.filtering(df, 'filtering.txt')"
   ]
  },
  {
   "cell_type": "code",
   "execution_count": 5,
   "id": "d17f1842",
   "metadata": {},
   "outputs": [
    {
     "name": "stdout",
     "output_type": "stream",
     "text": [
      "           x     y       b1       b2       b3   score_0   score_1   score_2  \\\n",
      "0        0.5  89.5      0.0      0.0      0.0  0.068966  0.313433  0.193252   \n",
      "1        1.5  89.5      0.0      0.0      0.0  0.068966  0.313433  0.193252   \n",
      "2        2.5  89.5      0.0      0.0      0.0  0.068966  0.313433  0.193252   \n",
      "3        3.5  89.5      0.0      0.0      0.0  0.068966  0.313433  0.193252   \n",
      "4        4.5  89.5      0.0      0.0      0.0  0.068966  0.313433  0.193252   \n",
      "...      ...   ...      ...      ...      ...       ...       ...       ...   \n",
      "26995  295.5   0.5  65534.0  65534.0  65534.0  1.000000  1.000000  1.000000   \n",
      "26996  296.5   0.5  65534.0  65534.0  65534.0  1.000000  1.000000  1.000000   \n",
      "26997  297.5   0.5  65534.0  65534.0  65534.0  1.000000  1.000000  1.000000   \n",
      "26998  298.5   0.5  65534.0  65534.0  65534.0  1.000000  1.000000  1.000000   \n",
      "26999  299.5   0.5  65534.0  65534.0  65534.0  1.000000  1.000000  1.000000   \n",
      "\n",
      "       total_score  \n",
      "0         0.168895  \n",
      "1         0.168895  \n",
      "2         0.168895  \n",
      "3         0.168895  \n",
      "4         0.168895  \n",
      "...            ...  \n",
      "26995     0.666667  \n",
      "26996     0.666667  \n",
      "26997     0.666667  \n",
      "26998     0.666667  \n",
      "26999     0.666667  \n",
      "\n",
      "[27000 rows x 9 columns]\n"
     ]
    }
   ],
   "source": [
    "print(obj.total_score(df))"
   ]
  },
  {
   "cell_type": "code",
   "execution_count": 6,
   "id": "031533a0",
   "metadata": {},
   "outputs": [
    {
     "name": "stderr",
     "output_type": "stream",
     "text": [
      "/Users/tarunsreepada/Github/geoAnalytics/geoAnalytics/repository.py:318: UserWarning: pandas only supports SQLAlchemy connectable (engine/connection) or database string URI or sqlite3 DBAPI2 connection. Other DBAPI2 objects are not tested. Please consider using SQLAlchemy.\n",
      "  df = pd.read_sql(sql, self.conn)\n"
     ]
    },
    {
     "name": "stdout",
     "output_type": "stream",
     "text": [
      "           x     y       b1       b2       b3\n",
      "0        0.5  89.5      0.0      0.0      0.0\n",
      "1        1.5  89.5      0.0      0.0      0.0\n",
      "2        2.5  89.5      0.0      0.0      0.0\n",
      "3        3.5  89.5      0.0      0.0      0.0\n",
      "4        4.5  89.5      0.0      0.0      0.0\n",
      "...      ...   ...      ...      ...      ...\n",
      "64795  355.5 -89.5  65534.0  65534.0  65534.0\n",
      "64796  356.5 -89.5  65534.0  65534.0  65534.0\n",
      "64797  357.5 -89.5  65534.0  65534.0  65534.0\n",
      "64798  358.5 -89.5  65534.0  65534.0  65534.0\n",
      "64799  359.5 -89.5  65534.0  65534.0  65534.0\n",
      "\n",
      "[64800 rows x 5 columns]\n"
     ]
    },
    {
     "name": "stderr",
     "output_type": "stream",
     "text": [
      "/Users/tarunsreepada/Github/geoAnalytics/geoAnalytics/repository.py:305: UserWarning: pandas only supports SQLAlchemy connectable (engine/connection) or database string URI or sqlite3 DBAPI2 connection. Other DBAPI2 objects are not tested. Please consider using SQLAlchemy.\n",
      "  df = pd.read_sql(sql, self.conn)\n"
     ]
    },
    {
     "name": "stdout",
     "output_type": "stream",
     "text": [
      "        x     y       b1       b2       b3\n",
      "0   100.5  59.5  65534.0  65534.0  65534.0\n",
      "1   101.5  59.5  65534.0  65534.0  65534.0\n",
      "2   102.5  59.5  65534.0  65534.0  65534.0\n",
      "3   103.5  59.5  65534.0  65534.0  65534.0\n",
      "4   104.5  59.5  65534.0  65534.0  65534.0\n",
      "..    ...   ...      ...      ...      ...\n",
      "95  105.5  50.5  65534.0  65534.0  65534.0\n",
      "96  106.5  50.5  65534.0  65534.0  65534.0\n",
      "97  107.5  50.5  65534.0  65534.0  65534.0\n",
      "98  108.5  50.5  65534.0  65534.0  65534.0\n",
      "99  109.5  50.5  65534.0  65534.0  65534.0\n",
      "\n",
      "[100 rows x 5 columns]\n",
      "Getting raster from database\n",
      "Creating raster file\n",
      "(127, '/bin/sh: ncrename: command not found')\n"
     ]
    },
    {
     "name": "stderr",
     "output_type": "stream",
     "text": [
      "/Users/tarunsreepada/Github/geoAnalytics/geoAnalytics/repository.py:305: UserWarning: pandas only supports SQLAlchemy connectable (engine/connection) or database string URI or sqlite3 DBAPI2 connection. Other DBAPI2 objects are not tested. Please consider using SQLAlchemy.\n",
      "  df = pd.read_sql(sql, self.conn)\n"
     ]
    },
    {
     "name": "stdout",
     "output_type": "stream",
     "text": [
      "(127, '/bin/sh: ncrename: command not found')\n",
      "(127, '/bin/sh: ncrename: command not found')\n",
      "(127, '/bin/sh: cdo: command not found')\n",
      "(0, '')\n"
     ]
    },
    {
     "ename": "FileNotFoundError",
     "evalue": "[Errno 2] No such file or directory: 'output.nc' -> 'temp.nc'",
     "output_type": "error",
     "traceback": [
      "\u001B[0;31m---------------------------------------------------------------------------\u001B[0m",
      "\u001B[0;31mFileNotFoundError\u001B[0m                         Traceback (most recent call last)",
      "Cell \u001B[0;32mIn[6], line 3\u001B[0m\n\u001B[1;32m      1\u001B[0m \u001B[38;5;28mprint\u001B[39m(obj\u001B[38;5;241m.\u001B[39mget_dataframe(\u001B[38;5;124m'\u001B[39m\u001B[38;5;124mtest\u001B[39m\u001B[38;5;124m'\u001B[39m))\n\u001B[1;32m      2\u001B[0m \u001B[38;5;28mprint\u001B[39m(obj\u001B[38;5;241m.\u001B[39mget_dataframe_for_envelope(\u001B[38;5;124m'\u001B[39m\u001B[38;5;124mtest\u001B[39m\u001B[38;5;124m'\u001B[39m, \u001B[38;5;241m100\u001B[39m, \u001B[38;5;241m50\u001B[39m, \u001B[38;5;241m110\u001B[39m, \u001B[38;5;241m60\u001B[39m))\n\u001B[0;32m----> 3\u001B[0m \u001B[43mobj\u001B[49m\u001B[38;5;241;43m.\u001B[39;49m\u001B[43mget_raster\u001B[49m\u001B[43m(\u001B[49m\u001B[38;5;124;43m'\u001B[39;49m\u001B[38;5;124;43mtest\u001B[39;49m\u001B[38;5;124;43m'\u001B[39;49m\u001B[43m,\u001B[49m\u001B[43m \u001B[49m\u001B[38;5;124;43m'\u001B[39;49m\u001B[38;5;124;43mtemp\u001B[39;49m\u001B[38;5;124;43m'\u001B[39;49m\u001B[43m,\u001B[49m\u001B[43m \u001B[49m\u001B[38;5;241;43m100\u001B[39;49m\u001B[43m,\u001B[49m\u001B[43m \u001B[49m\u001B[38;5;241;43m50\u001B[39;49m\u001B[43m,\u001B[49m\u001B[43m \u001B[49m\u001B[38;5;241;43m110\u001B[39;49m\u001B[43m,\u001B[49m\u001B[43m \u001B[49m\u001B[38;5;241;43m60\u001B[39;49m\u001B[43m)\u001B[49m\n",
      "File \u001B[0;32m~/Github/geoAnalytics/geoAnalytics/repository.py:287\u001B[0m, in \u001B[0;36mGeoDatabaseManager.get_raster\u001B[0;34m(self, repositoryName, rasterFileName, Xmin, Ymin, Xmax, Ymax, Bands)\u001B[0m\n\u001B[1;32m    285\u001B[0m \u001B[38;5;28mprint\u001B[39m(\u001B[38;5;124m'\u001B[39m\u001B[38;5;124mGetting raster from database\u001B[39m\u001B[38;5;124m'\u001B[39m)\n\u001B[1;32m    286\u001B[0m df \u001B[38;5;241m=\u001B[39m \u001B[38;5;28mself\u001B[39m\u001B[38;5;241m.\u001B[39mget_dataframe_for_envelope(repositoryName, Xmin, Ymin, Xmax, Ymax, Bands)\n\u001B[0;32m--> 287\u001B[0m \u001B[38;5;28;43mself\u001B[39;49m\u001B[38;5;241;43m.\u001B[39;49m\u001B[43mdataframe_to_raster\u001B[49m\u001B[43m(\u001B[49m\u001B[43mdf\u001B[49m\u001B[43m,\u001B[49m\u001B[43m \u001B[49m\u001B[43mrasterFileName\u001B[49m\u001B[43m)\u001B[49m\n",
      "File \u001B[0;32m~/Github/geoAnalytics/geoAnalytics/repository.py:294\u001B[0m, in \u001B[0;36mGeoDatabaseManager.dataframe_to_raster\u001B[0;34m(self, dataframe, rasterFileName)\u001B[0m\n\u001B[1;32m    290\u001B[0m \u001B[38;5;250m\u001B[39m\u001B[38;5;124;03m\"\"\"\u001B[39;00m\n\u001B[1;32m    291\u001B[0m \u001B[38;5;124;03mCreate a raster image from a dataframe.\u001B[39;00m\n\u001B[1;32m    292\u001B[0m \u001B[38;5;124;03m\"\"\"\u001B[39;00m\n\u001B[1;32m    293\u001B[0m \u001B[38;5;28mprint\u001B[39m(\u001B[38;5;124m'\u001B[39m\u001B[38;5;124mCreating raster file\u001B[39m\u001B[38;5;124m'\u001B[39m)\n\u001B[0;32m--> 294\u001B[0m \u001B[43mcsv2raster\u001B[49m\u001B[38;5;241;43m.\u001B[39;49m\u001B[43mcsv2raster\u001B[49m\u001B[43m(\u001B[49m\u001B[43moutput_file\u001B[49m\u001B[38;5;241;43m=\u001B[39;49m\u001B[43mrasterFileName\u001B[49m\u001B[43m,\u001B[49m\u001B[43m \u001B[49m\u001B[43mdataframe\u001B[49m\u001B[38;5;241;43m=\u001B[39;49m\u001B[43mdataframe\u001B[49m\u001B[43m)\u001B[49m\n",
      "File \u001B[0;32m/opt/homebrew/lib/python3.12/site-packages/geoAnalytics/csv2raster.py:48\u001B[0m, in \u001B[0;36mcsv2raster\u001B[0;34m(input_file, output_file, sep, dataframe)\u001B[0m\n\u001B[1;32m     46\u001B[0m     \u001B[38;5;28mprint\u001B[39m(subprocess\u001B[38;5;241m.\u001B[39mgetstatusoutput(buffer))\n\u001B[1;32m     47\u001B[0m \u001B[38;5;28;01melse\u001B[39;00m:\n\u001B[0;32m---> 48\u001B[0m     \u001B[43mos\u001B[49m\u001B[38;5;241;43m.\u001B[39;49m\u001B[43mrename\u001B[49m\u001B[43m(\u001B[49m\u001B[43moutput_file\u001B[49m\u001B[43m,\u001B[49m\u001B[43m \u001B[49m\u001B[43mtempOut\u001B[49m\u001B[43m \u001B[49m\u001B[38;5;241;43m+\u001B[39;49m\u001B[43m \u001B[49m\u001B[38;5;124;43m\"\u001B[39;49m\u001B[38;5;124;43m.nc\u001B[39;49m\u001B[38;5;124;43m\"\u001B[39;49m\u001B[43m)\u001B[49m\n\u001B[1;32m     51\u001B[0m os\u001B[38;5;241m.\u001B[39mremove(\u001B[38;5;124m\"\u001B[39m\u001B[38;5;124mxyzformat.xyz\u001B[39m\u001B[38;5;124m\"\u001B[39m)\n",
      "\u001B[0;31mFileNotFoundError\u001B[0m: [Errno 2] No such file or directory: 'output.nc' -> 'temp.nc'"
     ]
    }
   ],
   "source": [
    "print(obj.get_dataframe('test'))\n",
    "print(obj.get_dataframe_for_envelope('test', 100, 50, 110, 60))\n",
    "obj.get_raster('test', 'temp', 100, 50, 110, 60)"
   ]
  },
  {
   "cell_type": "code",
   "execution_count": 7,
   "id": "c2e3c143-76bc-4a05-b41a-bc77f3059ddb",
   "metadata": {},
   "outputs": [
    {
     "name": "stderr",
     "output_type": "stream",
     "text": [
      "/Users/tarunsreepada/Github/geoAnalytics/geoAnalytics/repository.py:318: UserWarning: pandas only supports SQLAlchemy connectable (engine/connection) or database string URI or sqlite3 DBAPI2 connection. Other DBAPI2 objects are not tested. Please consider using SQLAlchemy.\n",
      "  df = pd.read_sql(sql, self.conn)\n"
     ]
    },
    {
     "ename": "DatabaseError",
     "evalue": "Execution failed on sql 'SELECT ST_X(geog) as x, ST_Y(geog) as y, * FROM test;': relation \"test\" does not exist\nLINE 1: SELECT ST_X(geog) as x, ST_Y(geog) as y, * FROM test;\n                                                        ^\n",
     "output_type": "error",
     "traceback": [
      "\u001B[0;31m---------------------------------------------------------------------------\u001B[0m",
      "\u001B[0;31mUndefinedTable\u001B[0m                            Traceback (most recent call last)",
      "File \u001B[0;32m/opt/homebrew/lib/python3.12/site-packages/pandas/io/sql.py:2674\u001B[0m, in \u001B[0;36mSQLiteDatabase.execute\u001B[0;34m(self, sql, params)\u001B[0m\n\u001B[1;32m   2673\u001B[0m \u001B[38;5;28;01mtry\u001B[39;00m:\n\u001B[0;32m-> 2674\u001B[0m     \u001B[43mcur\u001B[49m\u001B[38;5;241;43m.\u001B[39;49m\u001B[43mexecute\u001B[49m\u001B[43m(\u001B[49m\u001B[43msql\u001B[49m\u001B[43m,\u001B[49m\u001B[43m \u001B[49m\u001B[38;5;241;43m*\u001B[39;49m\u001B[43margs\u001B[49m\u001B[43m)\u001B[49m\n\u001B[1;32m   2675\u001B[0m     \u001B[38;5;28;01mreturn\u001B[39;00m cur\n",
      "\u001B[0;31mUndefinedTable\u001B[0m: relation \"test\" does not exist\nLINE 1: SELECT ST_X(geog) as x, ST_Y(geog) as y, * FROM test;\n                                                        ^\n",
      "\nThe above exception was the direct cause of the following exception:\n",
      "\u001B[0;31mDatabaseError\u001B[0m                             Traceback (most recent call last)",
      "Cell \u001B[0;32mIn[7], line 1\u001B[0m\n\u001B[0;32m----> 1\u001B[0m df \u001B[38;5;241m=\u001B[39m \u001B[43mobj\u001B[49m\u001B[38;5;241;43m.\u001B[39;49m\u001B[43mget_dataframe\u001B[49m\u001B[43m(\u001B[49m\u001B[38;5;124;43m'\u001B[39;49m\u001B[38;5;124;43mtest\u001B[39;49m\u001B[38;5;124;43m'\u001B[39;49m\u001B[43m)\u001B[49m\n\u001B[1;32m      2\u001B[0m \u001B[38;5;28mprint\u001B[39m(df\u001B[38;5;241m.\u001B[39mhead())\n",
      "File \u001B[0;32m~/Github/geoAnalytics/geoAnalytics/repository.py:318\u001B[0m, in \u001B[0;36mGeoDatabaseManager.get_dataframe\u001B[0;34m(self, repositoryName, Bands)\u001B[0m\n\u001B[1;32m    315\u001B[0m params \u001B[38;5;241m=\u001B[39m config()\n\u001B[1;32m    316\u001B[0m \u001B[38;5;28mself\u001B[39m\u001B[38;5;241m.\u001B[39mconn \u001B[38;5;241m=\u001B[39m psycopg2\u001B[38;5;241m.\u001B[39mconnect(\u001B[38;5;241m*\u001B[39m\u001B[38;5;241m*\u001B[39mparams)\n\u001B[0;32m--> 318\u001B[0m df \u001B[38;5;241m=\u001B[39m \u001B[43mpd\u001B[49m\u001B[38;5;241;43m.\u001B[39;49m\u001B[43mread_sql\u001B[49m\u001B[43m(\u001B[49m\u001B[43msql\u001B[49m\u001B[43m,\u001B[49m\u001B[43m \u001B[49m\u001B[38;5;28;43mself\u001B[39;49m\u001B[38;5;241;43m.\u001B[39;49m\u001B[43mconn\u001B[49m\u001B[43m)\u001B[49m\n\u001B[1;32m    319\u001B[0m \u001B[38;5;28;01mif\u001B[39;00m Bands \u001B[38;5;241m==\u001B[39m \u001B[38;5;124m\"\u001B[39m\u001B[38;5;124m*\u001B[39m\u001B[38;5;124m\"\u001B[39m:\n\u001B[1;32m    320\u001B[0m     df\u001B[38;5;241m.\u001B[39mdrop(columns\u001B[38;5;241m=\u001B[39m[\u001B[38;5;124m'\u001B[39m\u001B[38;5;124mgeog\u001B[39m\u001B[38;5;124m'\u001B[39m], inplace\u001B[38;5;241m=\u001B[39m\u001B[38;5;28;01mTrue\u001B[39;00m)\n",
      "File \u001B[0;32m/opt/homebrew/lib/python3.12/site-packages/pandas/io/sql.py:706\u001B[0m, in \u001B[0;36mread_sql\u001B[0;34m(sql, con, index_col, coerce_float, params, parse_dates, columns, chunksize, dtype_backend, dtype)\u001B[0m\n\u001B[1;32m    704\u001B[0m \u001B[38;5;28;01mwith\u001B[39;00m pandasSQL_builder(con) \u001B[38;5;28;01mas\u001B[39;00m pandas_sql:\n\u001B[1;32m    705\u001B[0m     \u001B[38;5;28;01mif\u001B[39;00m \u001B[38;5;28misinstance\u001B[39m(pandas_sql, SQLiteDatabase):\n\u001B[0;32m--> 706\u001B[0m         \u001B[38;5;28;01mreturn\u001B[39;00m \u001B[43mpandas_sql\u001B[49m\u001B[38;5;241;43m.\u001B[39;49m\u001B[43mread_query\u001B[49m\u001B[43m(\u001B[49m\n\u001B[1;32m    707\u001B[0m \u001B[43m            \u001B[49m\u001B[43msql\u001B[49m\u001B[43m,\u001B[49m\n\u001B[1;32m    708\u001B[0m \u001B[43m            \u001B[49m\u001B[43mindex_col\u001B[49m\u001B[38;5;241;43m=\u001B[39;49m\u001B[43mindex_col\u001B[49m\u001B[43m,\u001B[49m\n\u001B[1;32m    709\u001B[0m \u001B[43m            \u001B[49m\u001B[43mparams\u001B[49m\u001B[38;5;241;43m=\u001B[39;49m\u001B[43mparams\u001B[49m\u001B[43m,\u001B[49m\n\u001B[1;32m    710\u001B[0m \u001B[43m            \u001B[49m\u001B[43mcoerce_float\u001B[49m\u001B[38;5;241;43m=\u001B[39;49m\u001B[43mcoerce_float\u001B[49m\u001B[43m,\u001B[49m\n\u001B[1;32m    711\u001B[0m \u001B[43m            \u001B[49m\u001B[43mparse_dates\u001B[49m\u001B[38;5;241;43m=\u001B[39;49m\u001B[43mparse_dates\u001B[49m\u001B[43m,\u001B[49m\n\u001B[1;32m    712\u001B[0m \u001B[43m            \u001B[49m\u001B[43mchunksize\u001B[49m\u001B[38;5;241;43m=\u001B[39;49m\u001B[43mchunksize\u001B[49m\u001B[43m,\u001B[49m\n\u001B[1;32m    713\u001B[0m \u001B[43m            \u001B[49m\u001B[43mdtype_backend\u001B[49m\u001B[38;5;241;43m=\u001B[39;49m\u001B[43mdtype_backend\u001B[49m\u001B[43m,\u001B[49m\n\u001B[1;32m    714\u001B[0m \u001B[43m            \u001B[49m\u001B[43mdtype\u001B[49m\u001B[38;5;241;43m=\u001B[39;49m\u001B[43mdtype\u001B[49m\u001B[43m,\u001B[49m\n\u001B[1;32m    715\u001B[0m \u001B[43m        \u001B[49m\u001B[43m)\u001B[49m\n\u001B[1;32m    717\u001B[0m     \u001B[38;5;28;01mtry\u001B[39;00m:\n\u001B[1;32m    718\u001B[0m         _is_table_name \u001B[38;5;241m=\u001B[39m pandas_sql\u001B[38;5;241m.\u001B[39mhas_table(sql)\n",
      "File \u001B[0;32m/opt/homebrew/lib/python3.12/site-packages/pandas/io/sql.py:2738\u001B[0m, in \u001B[0;36mSQLiteDatabase.read_query\u001B[0;34m(self, sql, index_col, coerce_float, parse_dates, params, chunksize, dtype, dtype_backend)\u001B[0m\n\u001B[1;32m   2727\u001B[0m \u001B[38;5;28;01mdef\u001B[39;00m \u001B[38;5;21mread_query\u001B[39m(\n\u001B[1;32m   2728\u001B[0m     \u001B[38;5;28mself\u001B[39m,\n\u001B[1;32m   2729\u001B[0m     sql,\n\u001B[0;32m   (...)\u001B[0m\n\u001B[1;32m   2736\u001B[0m     dtype_backend: DtypeBackend \u001B[38;5;241m|\u001B[39m Literal[\u001B[38;5;124m\"\u001B[39m\u001B[38;5;124mnumpy\u001B[39m\u001B[38;5;124m\"\u001B[39m] \u001B[38;5;241m=\u001B[39m \u001B[38;5;124m\"\u001B[39m\u001B[38;5;124mnumpy\u001B[39m\u001B[38;5;124m\"\u001B[39m,\n\u001B[1;32m   2737\u001B[0m ) \u001B[38;5;241m-\u001B[39m\u001B[38;5;241m>\u001B[39m DataFrame \u001B[38;5;241m|\u001B[39m Iterator[DataFrame]:\n\u001B[0;32m-> 2738\u001B[0m     cursor \u001B[38;5;241m=\u001B[39m \u001B[38;5;28;43mself\u001B[39;49m\u001B[38;5;241;43m.\u001B[39;49m\u001B[43mexecute\u001B[49m\u001B[43m(\u001B[49m\u001B[43msql\u001B[49m\u001B[43m,\u001B[49m\u001B[43m \u001B[49m\u001B[43mparams\u001B[49m\u001B[43m)\u001B[49m\n\u001B[1;32m   2739\u001B[0m     columns \u001B[38;5;241m=\u001B[39m [col_desc[\u001B[38;5;241m0\u001B[39m] \u001B[38;5;28;01mfor\u001B[39;00m col_desc \u001B[38;5;129;01min\u001B[39;00m cursor\u001B[38;5;241m.\u001B[39mdescription]\n\u001B[1;32m   2741\u001B[0m     \u001B[38;5;28;01mif\u001B[39;00m chunksize \u001B[38;5;129;01mis\u001B[39;00m \u001B[38;5;129;01mnot\u001B[39;00m \u001B[38;5;28;01mNone\u001B[39;00m:\n",
      "File \u001B[0;32m/opt/homebrew/lib/python3.12/site-packages/pandas/io/sql.py:2686\u001B[0m, in \u001B[0;36mSQLiteDatabase.execute\u001B[0;34m(self, sql, params)\u001B[0m\n\u001B[1;32m   2683\u001B[0m     \u001B[38;5;28;01mraise\u001B[39;00m ex \u001B[38;5;28;01mfrom\u001B[39;00m \u001B[38;5;21;01minner_exc\u001B[39;00m\n\u001B[1;32m   2685\u001B[0m ex \u001B[38;5;241m=\u001B[39m DatabaseError(\u001B[38;5;124mf\u001B[39m\u001B[38;5;124m\"\u001B[39m\u001B[38;5;124mExecution failed on sql \u001B[39m\u001B[38;5;124m'\u001B[39m\u001B[38;5;132;01m{\u001B[39;00msql\u001B[38;5;132;01m}\u001B[39;00m\u001B[38;5;124m'\u001B[39m\u001B[38;5;124m: \u001B[39m\u001B[38;5;132;01m{\u001B[39;00mexc\u001B[38;5;132;01m}\u001B[39;00m\u001B[38;5;124m\"\u001B[39m)\n\u001B[0;32m-> 2686\u001B[0m \u001B[38;5;28;01mraise\u001B[39;00m ex \u001B[38;5;28;01mfrom\u001B[39;00m \u001B[38;5;21;01mexc\u001B[39;00m\n",
      "\u001B[0;31mDatabaseError\u001B[0m: Execution failed on sql 'SELECT ST_X(geog) as x, ST_Y(geog) as y, * FROM test;': relation \"test\" does not exist\nLINE 1: SELECT ST_X(geog) as x, ST_Y(geog) as y, * FROM test;\n                                                        ^\n"
     ]
    }
   ],
   "source": [
    "df = obj.get_dataframe('test')\n",
    "print(df.head())"
   ]
  },
  {
   "cell_type": "code",
   "execution_count": null,
   "id": "561bf23c",
   "metadata": {},
   "outputs": [],
   "source": []
  }
 ],
 "metadata": {
  "kernelspec": {
   "display_name": "Python 3",
   "language": "python",
   "name": "python3"
  },
  "language_info": {
   "codemirror_mode": {
    "name": "ipython",
    "version": 3
   },
   "file_extension": ".py",
   "mimetype": "text/x-python",
   "name": "python",
   "nbconvert_exporter": "python",
   "pygments_lexer": "ipython3",
   "version": "3.12.4"
  }
 },
 "nbformat": 4,
 "nbformat_minor": 5
}
